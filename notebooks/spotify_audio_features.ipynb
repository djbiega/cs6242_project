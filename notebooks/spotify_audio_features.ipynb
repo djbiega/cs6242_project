{
 "cells": [
  {
   "cell_type": "code",
   "execution_count": null,
   "id": "16513a3c",
   "metadata": {},
   "outputs": [],
   "source": [
    "import json\n",
    "import time\n",
    "\n",
    "import numpy as np\n",
    "import pandas as pd\n",
    "import spotipy\n",
    "from spotipy.oauth2 import SpotifyClientCredentials"
   ]
  },
  {
   "cell_type": "code",
   "execution_count": null,
   "id": "f2df2284",
   "metadata": {},
   "outputs": [],
   "source": [
    "# Must have SPOTIPY_CLIENT_ID and SPOTIPY_CLIENT_SECRET EV's set\n",
    "# https://spotipy.readthedocs.io/en/2.19.0/?highlight=audio#client-credentials-flow\n",
    "auth_manager = SpotifyClientCredentials()\n",
    "sp = spotipy.Spotify(\n",
    "    auth_manager=auth_manager, \n",
    "    requests_timeout=10,\n",
    "    retries=10,\n",
    "    backoff_factor=3,\n",
    ")"
   ]
  },
  {
   "cell_type": "code",
   "execution_count": null,
   "id": "7da9a3a3",
   "metadata": {},
   "outputs": [],
   "source": [
    "mpd_path = \"/opt/cs6242_home/mpd.slice.0-999.json\"\n",
    "with open(mpd_path, \"r\") as f:\n",
    "    data = json.load(f)        "
   ]
  },
  {
   "cell_type": "code",
   "execution_count": null,
   "id": "c1a3c4db",
   "metadata": {},
   "outputs": [],
   "source": [
    "track_uris = []\n",
    "spotify_features = {}\n",
    "for playlist in data['playlists']:\n",
    "    for song in playlist['tracks']:\n",
    "        track_uri = song[\"track_uri\"]\n",
    "        track_uris.append(track_uri)\n",
    "        spotify_features[track_uri] = {\n",
    "            \"artist_name\": song[\"artist_name\"],\n",
    "            \"track_name\": song[\"track_name\"],\n",
    "            \"album_name\": song[\"album_name\"],\n",
    "        }\n",
    "        \n",
    "# We only care about the unique track_uris\n",
    "track_uris = list(set(track_uris))\n",
    "\n",
    "# spotipy audio_features() api call has a max. of 100 track_uris that can be requested per API call\n",
    "num_chunks = np.ceil(len(track_uris) / 100)\n",
    "chunked_track_uris = np.array_split(track_uris, num_chunks)"
   ]
  },
  {
   "cell_type": "code",
   "execution_count": null,
   "id": "7ede8b2d",
   "metadata": {},
   "outputs": [],
   "source": [
    "from requests.exceptions import ReadTimeout\n",
    "\n",
    "def get_audio_features(track_uris, audio_trk_features):\n",
    "    try:\n",
    "        audio_features = sp.audio_features(track_uris)\n",
    "        for idx, track_uri in enumerate(track_uris):\n",
    "            audio_trk_features[track_uri] = {\n",
    "                'danceability': audio_features[idx]['danceability'],\n",
    "                'energy': audio_features[idx]['energy'],\n",
    "                'key': audio_features[idx]['key'],\n",
    "                'loudness': audio_features[idx]['loudness'],\n",
    "                'mode': audio_features[idx]['mode'],\n",
    "                'speechiness': audio_features[idx]['speechiness'],\n",
    "                'acousticness': audio_features[idx]['acousticness'],\n",
    "                'instrumentalness': audio_features[idx]['instrumentalness'],\n",
    "                'liveness': audio_features[idx]['liveness'],\n",
    "                'valence': audio_features[idx]['valence'],\n",
    "                'tempo': audio_features[idx]['tempo'],\n",
    "                'duration_ms': audio_features[idx]['duration_ms'],\n",
    "                'time_signature': audio_features[idx]['time_signature'],\n",
    "            }\n",
    "        return audio_trk_features\n",
    "    # This is pretty hacky but feels safe enough since it's only catching on ReadTimeout\n",
    "    except ReadTimeout:\n",
    "        return get_audio_features(track_uris, audio_trk_features)"
   ]
  },
  {
   "cell_type": "code",
   "execution_count": null,
   "id": "3613009f",
   "metadata": {},
   "outputs": [],
   "source": [
    "audio_track_features = {}\n",
    "for chunk in chunked_track_uris:\n",
    "    audio_track_features = get_audio_features(chunk, audio_track_features)"
   ]
  },
  {
   "cell_type": "code",
   "execution_count": null,
   "id": "949e8569",
   "metadata": {},
   "outputs": [],
   "source": [
    "audio_df = pd.DataFrame.from_dict(audio_track_features, orient='index')\n",
    "spotify_df = pd.DataFrame.from_dict(spotify_features, orient='index')\n",
    "combined_df = spotify_df.join(audio_df)"
   ]
  },
  {
   "cell_type": "code",
   "execution_count": null,
   "id": "304975b9",
   "metadata": {},
   "outputs": [],
   "source": [
    "combined_df.head()"
   ]
  },
  {
   "cell_type": "code",
   "execution_count": null,
   "id": "c7def51d",
   "metadata": {},
   "outputs": [],
   "source": [
    "# combined_df.to_json (\"/opt/cs6242_home/mpd.slice.0-999_with_audio_features.json\")\n",
    "combined_dict = combined_df.T.to_dict()\n",
    "with open(\"/opt/cs6242_home/mpd.slice.0-999_with_audio_features.json\", \"w\") as f:\n",
    "    json.dump(combined_dict, f, indent=4)"
   ]
  },
  {
   "cell_type": "code",
   "execution_count": null,
   "id": "c3cef7c4",
   "metadata": {},
   "outputs": [],
   "source": []
  }
 ],
 "metadata": {
  "kernelspec": {
   "display_name": "Python 3 (ipykernel)",
   "language": "python",
   "name": "python3"
  },
  "language_info": {
   "codemirror_mode": {
    "name": "ipython",
    "version": 3
   },
   "file_extension": ".py",
   "mimetype": "text/x-python",
   "name": "python",
   "nbconvert_exporter": "python",
   "pygments_lexer": "ipython3",
   "version": "3.8.10"
  }
 },
 "nbformat": 4,
 "nbformat_minor": 5
}
